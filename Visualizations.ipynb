{
 "cells": [
  {
   "cell_type": "code",
   "execution_count": 149,
   "metadata": {},
   "outputs": [],
   "source": [
    "import pandas as pd\n",
    "from matplotlib import pyplot as plt"
   ]
  },
  {
   "cell_type": "code",
   "execution_count": 150,
   "metadata": {},
   "outputs": [],
   "source": [
    "df = pd.read_csv(\"data/jobs_shares.csv\")"
   ]
  },
  {
   "cell_type": "code",
   "execution_count": 151,
   "metadata": {},
   "outputs": [
    {
     "data": {
      "text/html": [
       "<div>\n",
       "<style scoped>\n",
       "    .dataframe tbody tr th:only-of-type {\n",
       "        vertical-align: middle;\n",
       "    }\n",
       "\n",
       "    .dataframe tbody tr th {\n",
       "        vertical-align: top;\n",
       "    }\n",
       "\n",
       "    .dataframe thead th {\n",
       "        text-align: right;\n",
       "    }\n",
       "</style>\n",
       "<table border=\"1\" class=\"dataframe\">\n",
       "  <thead>\n",
       "    <tr style=\"text-align: right;\">\n",
       "      <th></th>\n",
       "      <th>geofips</th>\n",
       "      <th>total employment (number of jobs)</th>\n",
       "      <th>wage and salary employment</th>\n",
       "      <th>proprietors employment</th>\n",
       "      <th>farm proprietors employment</th>\n",
       "      <th>nonfarm proprietors employment 2/</th>\n",
       "      <th>farm employment</th>\n",
       "      <th>nonfarm employment</th>\n",
       "      <th>private nonfarm employment</th>\n",
       "      <th>forestry, fishing, and related activities</th>\n",
       "      <th>...</th>\n",
       "      <th>educational services</th>\n",
       "      <th>health care and social assistance</th>\n",
       "      <th>arts, entertainment, and recreation</th>\n",
       "      <th>accommodation and food services</th>\n",
       "      <th>government and government enterprises</th>\n",
       "      <th>federal civilian</th>\n",
       "      <th>military</th>\n",
       "      <th>state and local</th>\n",
       "      <th>state government</th>\n",
       "      <th>local government</th>\n",
       "    </tr>\n",
       "  </thead>\n",
       "  <tbody>\n",
       "    <tr>\n",
       "      <th>0</th>\n",
       "      <td>\"00000\"</td>\n",
       "      <td>200746000</td>\n",
       "      <td>0.769007</td>\n",
       "      <td>0.230993</td>\n",
       "      <td>0.008917</td>\n",
       "      <td>0.222077</td>\n",
       "      <td>0.012972</td>\n",
       "      <td>0.987028</td>\n",
       "      <td>0.864769</td>\n",
       "      <td>0.004829</td>\n",
       "      <td>...</td>\n",
       "      <td>0.023770</td>\n",
       "      <td>0.112679</td>\n",
       "      <td>0.023337</td>\n",
       "      <td>0.075107</td>\n",
       "      <td>0.122259</td>\n",
       "      <td>0.014192</td>\n",
       "      <td>0.009574</td>\n",
       "      <td>0.098493</td>\n",
       "      <td>0.026875</td>\n",
       "      <td>0.071618</td>\n",
       "    </tr>\n",
       "    <tr>\n",
       "      <th>1</th>\n",
       "      <td>\"01000\"</td>\n",
       "      <td>2691517</td>\n",
       "      <td>0.779299</td>\n",
       "      <td>0.220701</td>\n",
       "      <td>0.012992</td>\n",
       "      <td>0.207709</td>\n",
       "      <td>0.015686</td>\n",
       "      <td>0.984314</td>\n",
       "      <td>0.834039</td>\n",
       "      <td>0.005906</td>\n",
       "      <td>...</td>\n",
       "      <td>0.015828</td>\n",
       "      <td>0.094130</td>\n",
       "      <td>0.015512</td>\n",
       "      <td>0.074809</td>\n",
       "      <td>0.150275</td>\n",
       "      <td>0.019720</td>\n",
       "      <td>0.010637</td>\n",
       "      <td>0.119918</td>\n",
       "      <td>0.039723</td>\n",
       "      <td>0.080195</td>\n",
       "    </tr>\n",
       "    <tr>\n",
       "      <th>2</th>\n",
       "      <td>\"01001\"</td>\n",
       "      <td>18115</td>\n",
       "      <td>0.684240</td>\n",
       "      <td>0.315760</td>\n",
       "      <td>0.017499</td>\n",
       "      <td>0.298261</td>\n",
       "      <td>0.022081</td>\n",
       "      <td>0.977919</td>\n",
       "      <td>0.839194</td>\n",
       "      <td>0.008004</td>\n",
       "      <td>...</td>\n",
       "      <td>0.024400</td>\n",
       "      <td>0.087221</td>\n",
       "      <td>0.026939</td>\n",
       "      <td>0.079603</td>\n",
       "      <td>0.138725</td>\n",
       "      <td>0.004913</td>\n",
       "      <td>0.014574</td>\n",
       "      <td>0.119238</td>\n",
       "      <td>0.013083</td>\n",
       "      <td>0.106155</td>\n",
       "    </tr>\n",
       "    <tr>\n",
       "      <th>3</th>\n",
       "      <td>\"01003\"</td>\n",
       "      <td>115166</td>\n",
       "      <td>0.702699</td>\n",
       "      <td>0.297301</td>\n",
       "      <td>0.006686</td>\n",
       "      <td>0.290615</td>\n",
       "      <td>0.009682</td>\n",
       "      <td>0.990318</td>\n",
       "      <td>0.896497</td>\n",
       "      <td>0.006304</td>\n",
       "      <td>...</td>\n",
       "      <td>0.020718</td>\n",
       "      <td>0.095089</td>\n",
       "      <td>0.027725</td>\n",
       "      <td>0.126313</td>\n",
       "      <td>0.093821</td>\n",
       "      <td>0.003100</td>\n",
       "      <td>0.008509</td>\n",
       "      <td>0.082212</td>\n",
       "      <td>0.011922</td>\n",
       "      <td>0.070290</td>\n",
       "    </tr>\n",
       "    <tr>\n",
       "      <th>4</th>\n",
       "      <td>\"01005\"</td>\n",
       "      <td>11828</td>\n",
       "      <td>0.741884</td>\n",
       "      <td>0.258116</td>\n",
       "      <td>0.039144</td>\n",
       "      <td>0.218972</td>\n",
       "      <td>0.046838</td>\n",
       "      <td>0.953162</td>\n",
       "      <td>0.806561</td>\n",
       "      <td>0.021644</td>\n",
       "      <td>...</td>\n",
       "      <td>0.000000</td>\n",
       "      <td>0.000000</td>\n",
       "      <td>0.006679</td>\n",
       "      <td>0.061972</td>\n",
       "      <td>0.146601</td>\n",
       "      <td>0.004312</td>\n",
       "      <td>0.008793</td>\n",
       "      <td>0.133497</td>\n",
       "      <td>0.051065</td>\n",
       "      <td>0.082432</td>\n",
       "    </tr>\n",
       "  </tbody>\n",
       "</table>\n",
       "<p>5 rows × 33 columns</p>\n",
       "</div>"
      ],
      "text/plain": [
       "   geofips  total employment (number of jobs)  wage and salary employment  \\\n",
       "0  \"00000\"                          200746000                    0.769007   \n",
       "1  \"01000\"                            2691517                    0.779299   \n",
       "2  \"01001\"                              18115                    0.684240   \n",
       "3  \"01003\"                             115166                    0.702699   \n",
       "4  \"01005\"                              11828                    0.741884   \n",
       "\n",
       "   proprietors employment  farm proprietors employment  \\\n",
       "0                0.230993                     0.008917   \n",
       "1                0.220701                     0.012992   \n",
       "2                0.315760                     0.017499   \n",
       "3                0.297301                     0.006686   \n",
       "4                0.258116                     0.039144   \n",
       "\n",
       "   nonfarm proprietors employment 2/  farm employment  nonfarm employment  \\\n",
       "0                           0.222077         0.012972            0.987028   \n",
       "1                           0.207709         0.015686            0.984314   \n",
       "2                           0.298261         0.022081            0.977919   \n",
       "3                           0.290615         0.009682            0.990318   \n",
       "4                           0.218972         0.046838            0.953162   \n",
       "\n",
       "   private nonfarm employment  forestry, fishing, and related activities  ...  \\\n",
       "0                    0.864769                                   0.004829  ...   \n",
       "1                    0.834039                                   0.005906  ...   \n",
       "2                    0.839194                                   0.008004  ...   \n",
       "3                    0.896497                                   0.006304  ...   \n",
       "4                    0.806561                                   0.021644  ...   \n",
       "\n",
       "   educational services  health care and social assistance  \\\n",
       "0              0.023770                           0.112679   \n",
       "1              0.015828                           0.094130   \n",
       "2              0.024400                           0.087221   \n",
       "3              0.020718                           0.095089   \n",
       "4              0.000000                           0.000000   \n",
       "\n",
       "   arts, entertainment, and recreation  accommodation and food services  \\\n",
       "0                             0.023337                         0.075107   \n",
       "1                             0.015512                         0.074809   \n",
       "2                             0.026939                         0.079603   \n",
       "3                             0.027725                         0.126313   \n",
       "4                             0.006679                         0.061972   \n",
       "\n",
       "   government and government enterprises  federal civilian  military  \\\n",
       "0                               0.122259          0.014192  0.009574   \n",
       "1                               0.150275          0.019720  0.010637   \n",
       "2                               0.138725          0.004913  0.014574   \n",
       "3                               0.093821          0.003100  0.008509   \n",
       "4                               0.146601          0.004312  0.008793   \n",
       "\n",
       "   state and local  state government  local government  \n",
       "0         0.098493          0.026875          0.071618  \n",
       "1         0.119918          0.039723          0.080195  \n",
       "2         0.119238          0.013083          0.106155  \n",
       "3         0.082212          0.011922          0.070290  \n",
       "4         0.133497          0.051065          0.082432  \n",
       "\n",
       "[5 rows x 33 columns]"
      ]
     },
     "execution_count": 151,
     "metadata": {},
     "output_type": "execute_result"
    }
   ],
   "source": [
    "df.head()"
   ]
  },
  {
   "cell_type": "code",
   "execution_count": 152,
   "metadata": {},
   "outputs": [
    {
     "data": {
      "text/plain": [
       "253067.7592184053"
      ]
     },
     "execution_count": 152,
     "metadata": {},
     "output_type": "execute_result"
    }
   ],
   "source": [
    "dfmeans = df.mean(axis=0)\n",
    "dfmeans.pop('total employment (number of jobs)')"
   ]
  },
  {
   "cell_type": "code",
   "execution_count": 153,
   "metadata": {},
   "outputs": [
    {
     "data": {
      "text/plain": [
       "Text(0.5, 1.0, 'Average Industry Shares in the USA')"
      ]
     },
     "execution_count": 153,
     "metadata": {},
     "output_type": "execute_result"
    },
    {
     "data": {
      "image/png": "[encoded data removed]",
      "text/plain": [
       "<Figure size 720x504 with 1 Axes>"
      ]
     },
     "metadata": {
      "needs_background": "light"
     },
     "output_type": "display_data"
    }
   ],
   "source": [
    "dfmeans.plot(kind='barh',figsize=(10,7))\n",
    "plt.title(\"Average Industry Shares in the USA\")"
   ]
  },
  {
   "cell_type": "code",
   "execution_count": 138,
   "metadata": {},
   "outputs": [],
   "source": [
    "df2 = pd.read_csv(\"data/covid_clean.csv\")"
   ]
  },
  {
   "cell_type": "code",
   "execution_count": 139,
   "metadata": {},
   "outputs": [
    {
     "data": {
      "text/html": [
       "<div>\n",
       "<style scoped>\n",
       "    .dataframe tbody tr th:only-of-type {\n",
       "        vertical-align: middle;\n",
       "    }\n",
       "\n",
       "    .dataframe tbody tr th {\n",
       "        vertical-align: top;\n",
       "    }\n",
       "\n",
       "    .dataframe thead th {\n",
       "        text-align: right;\n",
       "    }\n",
       "</style>\n",
       "<table border=\"1\" class=\"dataframe\">\n",
       "  <thead>\n",
       "    <tr style=\"text-align: right;\">\n",
       "      <th></th>\n",
       "      <th>fips</th>\n",
       "      <th>day_1</th>\n",
       "      <th>day_2</th>\n",
       "      <th>day_3</th>\n",
       "      <th>day_4</th>\n",
       "      <th>day_5</th>\n",
       "      <th>day_6</th>\n",
       "      <th>day_7</th>\n",
       "      <th>day_8</th>\n",
       "      <th>day_9</th>\n",
       "      <th>...</th>\n",
       "      <th>day_91</th>\n",
       "      <th>day_92</th>\n",
       "      <th>day_93</th>\n",
       "      <th>day_94</th>\n",
       "      <th>day_95</th>\n",
       "      <th>day_96</th>\n",
       "      <th>day_97</th>\n",
       "      <th>day_98</th>\n",
       "      <th>statefips</th>\n",
       "      <th>start_date</th>\n",
       "    </tr>\n",
       "  </thead>\n",
       "  <tbody>\n",
       "    <tr>\n",
       "      <th>0</th>\n",
       "      <td>1001</td>\n",
       "      <td>0.000000</td>\n",
       "      <td>0.000000</td>\n",
       "      <td>0.000000</td>\n",
       "      <td>0.154151</td>\n",
       "      <td>0.000000</td>\n",
       "      <td>0.356675</td>\n",
       "      <td>0.000000</td>\n",
       "      <td>0.182322</td>\n",
       "      <td>0.000000</td>\n",
       "      <td>...</td>\n",
       "      <td>NaN</td>\n",
       "      <td>NaN</td>\n",
       "      <td>NaN</td>\n",
       "      <td>NaN</td>\n",
       "      <td>NaN</td>\n",
       "      <td>NaN</td>\n",
       "      <td>NaN</td>\n",
       "      <td>NaN</td>\n",
       "      <td>1000</td>\n",
       "      <td>2020-03-26</td>\n",
       "    </tr>\n",
       "    <tr>\n",
       "      <th>1</th>\n",
       "      <td>1003</td>\n",
       "      <td>0.405465</td>\n",
       "      <td>0.182322</td>\n",
       "      <td>0.054067</td>\n",
       "      <td>0.233615</td>\n",
       "      <td>0.080043</td>\n",
       "      <td>0.109199</td>\n",
       "      <td>0.033902</td>\n",
       "      <td>0.154151</td>\n",
       "      <td>0.108214</td>\n",
       "      <td>...</td>\n",
       "      <td>NaN</td>\n",
       "      <td>NaN</td>\n",
       "      <td>NaN</td>\n",
       "      <td>NaN</td>\n",
       "      <td>NaN</td>\n",
       "      <td>NaN</td>\n",
       "      <td>NaN</td>\n",
       "      <td>NaN</td>\n",
       "      <td>1000</td>\n",
       "      <td>2020-03-28</td>\n",
       "    </tr>\n",
       "    <tr>\n",
       "      <th>2</th>\n",
       "      <td>1005</td>\n",
       "      <td>0.251314</td>\n",
       "      <td>0.105361</td>\n",
       "      <td>0.000000</td>\n",
       "      <td>0.000000</td>\n",
       "      <td>0.095310</td>\n",
       "      <td>0.167054</td>\n",
       "      <td>0.074108</td>\n",
       "      <td>0.068993</td>\n",
       "      <td>0.182322</td>\n",
       "      <td>...</td>\n",
       "      <td>NaN</td>\n",
       "      <td>NaN</td>\n",
       "      <td>NaN</td>\n",
       "      <td>NaN</td>\n",
       "      <td>NaN</td>\n",
       "      <td>NaN</td>\n",
       "      <td>NaN</td>\n",
       "      <td>NaN</td>\n",
       "      <td>1000</td>\n",
       "      <td>2020-04-09</td>\n",
       "    </tr>\n",
       "    <tr>\n",
       "      <th>3</th>\n",
       "      <td>1007</td>\n",
       "      <td>0.000000</td>\n",
       "      <td>0.133531</td>\n",
       "      <td>0.117783</td>\n",
       "      <td>0.200671</td>\n",
       "      <td>0.000000</td>\n",
       "      <td>0.167054</td>\n",
       "      <td>0.207639</td>\n",
       "      <td>0.060625</td>\n",
       "      <td>0.000000</td>\n",
       "      <td>...</td>\n",
       "      <td>NaN</td>\n",
       "      <td>NaN</td>\n",
       "      <td>NaN</td>\n",
       "      <td>NaN</td>\n",
       "      <td>NaN</td>\n",
       "      <td>NaN</td>\n",
       "      <td>NaN</td>\n",
       "      <td>NaN</td>\n",
       "      <td>1000</td>\n",
       "      <td>2020-04-05</td>\n",
       "    </tr>\n",
       "    <tr>\n",
       "      <th>4</th>\n",
       "      <td>1009</td>\n",
       "      <td>0.405465</td>\n",
       "      <td>0.105361</td>\n",
       "      <td>0.000000</td>\n",
       "      <td>0.000000</td>\n",
       "      <td>0.000000</td>\n",
       "      <td>0.000000</td>\n",
       "      <td>0.095310</td>\n",
       "      <td>0.087011</td>\n",
       "      <td>0.000000</td>\n",
       "      <td>...</td>\n",
       "      <td>NaN</td>\n",
       "      <td>NaN</td>\n",
       "      <td>NaN</td>\n",
       "      <td>NaN</td>\n",
       "      <td>NaN</td>\n",
       "      <td>NaN</td>\n",
       "      <td>NaN</td>\n",
       "      <td>NaN</td>\n",
       "      <td>1000</td>\n",
       "      <td>2020-04-02</td>\n",
       "    </tr>\n",
       "  </tbody>\n",
       "</table>\n",
       "<p>5 rows × 101 columns</p>\n",
       "</div>"
      ],
      "text/plain": [
       "   fips     day_1     day_2     day_3     day_4     day_5     day_6     day_7  \\\n",
       "0  1001  0.000000  0.000000  0.000000  0.154151  0.000000  0.356675  0.000000   \n",
       "1  1003  0.405465  0.182322  0.054067  0.233615  0.080043  0.109199  0.033902   \n",
       "2  1005  0.251314  0.105361  0.000000  0.000000  0.095310  0.167054  0.074108   \n",
       "3  1007  0.000000  0.133531  0.117783  0.200671  0.000000  0.167054  0.207639   \n",
       "4  1009  0.405465  0.105361  0.000000  0.000000  0.000000  0.000000  0.095310   \n",
       "\n",
       "      day_8     day_9  ...  day_91  day_92  day_93  day_94  day_95  day_96  \\\n",
       "0  0.182322  0.000000  ...     NaN     NaN     NaN     NaN     NaN     NaN   \n",
       "1  0.154151  0.108214  ...     NaN     NaN     NaN     NaN     NaN     NaN   \n",
       "2  0.068993  0.182322  ...     NaN     NaN     NaN     NaN     NaN     NaN   \n",
       "3  0.060625  0.000000  ...     NaN     NaN     NaN     NaN     NaN     NaN   \n",
       "4  0.087011  0.000000  ...     NaN     NaN     NaN     NaN     NaN     NaN   \n",
       "\n",
       "   day_97  day_98  statefips  start_date  \n",
       "0     NaN     NaN       1000  2020-03-26  \n",
       "1     NaN     NaN       1000  2020-03-28  \n",
       "2     NaN     NaN       1000  2020-04-09  \n",
       "3     NaN     NaN       1000  2020-04-05  \n",
       "4     NaN     NaN       1000  2020-04-02  \n",
       "\n",
       "[5 rows x 101 columns]"
      ]
     },
     "execution_count": 139,
     "metadata": {},
     "output_type": "execute_result"
    }
   ],
   "source": [
    "df2.head()"
   ]
  },
  {
   "cell_type": "code",
   "execution_count": 140,
   "metadata": {},
   "outputs": [
    {
     "data": {
      "text/plain": [
       "0        1000\n",
       "1        1000\n",
       "2        1000\n",
       "3        1000\n",
       "4        1000\n",
       "5        1000\n",
       "6        1000\n",
       "7        1000\n",
       "8        1000\n",
       "9        1000\n",
       "10       1000\n",
       "11       1000\n",
       "12       1000\n",
       "13       1000\n",
       "14       1000\n",
       "15       1000\n",
       "16       1000\n",
       "17       1000\n",
       "18       1000\n",
       "19       1000\n",
       "20       1000\n",
       "21       1000\n",
       "22       1000\n",
       "23       1000\n",
       "24       1000\n",
       "25       1000\n",
       "26       1000\n",
       "27       1000\n",
       "28       1000\n",
       "29       1000\n",
       "        ...  \n",
       "2462    55000\n",
       "2463    55000\n",
       "2464    55000\n",
       "2465    55000\n",
       "2466    55000\n",
       "2467    55000\n",
       "2468    55000\n",
       "2469    55000\n",
       "2470    55000\n",
       "2471    55000\n",
       "2472    55000\n",
       "2473    55000\n",
       "2474    55000\n",
       "2475    55000\n",
       "2476    55000\n",
       "2477    56000\n",
       "2478    56000\n",
       "2479    56000\n",
       "2480    56000\n",
       "2481    56000\n",
       "2482    56000\n",
       "2483    56000\n",
       "2484    56000\n",
       "2485    56000\n",
       "2486    56000\n",
       "2487    56000\n",
       "2488    56000\n",
       "2489    56000\n",
       "2490    56000\n",
       "2491    56000\n",
       "Name: statefips, Length: 2492, dtype: int64"
      ]
     },
     "execution_count": 140,
     "metadata": {},
     "output_type": "execute_result"
    }
   ],
   "source": [
    "df2.pop(\"fips\")\n",
    "df2.pop(\"statefips\")"
   ]
  },
  {
   "cell_type": "code",
   "execution_count": 141,
   "metadata": {},
   "outputs": [
    {
     "name": "stdout",
     "output_type": "stream",
     "text": [
      "day_1     0.130939\n",
      "day_2     0.132269\n",
      "day_3     0.122439\n",
      "day_4     0.122604\n",
      "day_5     0.118267\n",
      "day_6     0.111792\n",
      "day_7     0.105946\n",
      "day_8     0.092600\n",
      "day_9     0.088356\n",
      "day_10    0.081815\n",
      "day_11    0.080331\n",
      "day_12    0.078153\n",
      "day_13    0.073258\n",
      "day_14    0.067228\n",
      "day_15    0.062831\n",
      "day_16    0.057717\n",
      "day_17    0.054539\n",
      "day_18    0.052505\n",
      "day_19    0.048642\n",
      "day_20    0.050245\n",
      "day_21    0.050328\n",
      "day_22    0.040799\n",
      "day_23    0.041271\n",
      "day_24    0.038323\n",
      "day_25    0.039468\n",
      "day_26    0.037418\n",
      "day_27    0.036230\n",
      "day_28    0.035516\n",
      "day_29    0.033031\n",
      "day_30    0.033511\n",
      "            ...   \n",
      "day_69    0.014644\n",
      "day_70    0.013990\n",
      "day_71    0.014243\n",
      "day_72    0.014509\n",
      "day_73    0.014302\n",
      "day_74    0.015233\n",
      "day_75    0.015270\n",
      "day_76    0.013764\n",
      "day_77    0.016928\n",
      "day_78    0.012604\n",
      "day_79    0.015774\n",
      "day_80    0.017681\n",
      "day_81    0.021520\n",
      "day_82    0.023810\n",
      "day_83    0.018421\n",
      "day_84    0.019226\n",
      "day_85    0.027315\n",
      "day_86    0.024686\n",
      "day_87    0.029205\n",
      "day_88    0.033063\n",
      "day_89    0.035121\n",
      "day_90    0.030525\n",
      "day_91    0.014268\n",
      "day_92    0.040886\n",
      "day_93    0.049135\n",
      "day_94    0.045793\n",
      "day_95    0.030414\n",
      "day_96    0.031801\n",
      "day_97    0.022567\n",
      "day_98    0.028906\n",
      "Length: 98, dtype: float64\n"
     ]
    }
   ],
   "source": [
    "df2means = df2.mean(axis=0)\n",
    "print(df2means)"
   ]
  },
  {
   "cell_type": "code",
   "execution_count": 142,
   "metadata": {},
   "outputs": [
    {
     "data": {
      "text/plain": [
       "Text(0.5, 1.0, 'Average Growth Rate by Day')"
      ]
     },
     "execution_count": 142,
     "metadata": {},
     "output_type": "execute_result"
    },
    {
     "data": {
      "image/png": "[encoded data removed]",
      "text/plain": [
       "<Figure size 432x288 with 1 Axes>"
      ]
     },
     "metadata": {
      "needs_background": "light"
     },
     "output_type": "display_data"
    }
   ],
   "source": [
    "df2means.plot()\n",
    "plt.title(\"Average Growth Rate by Day\")"
   ]
  },
  {
   "cell_type": "code",
   "execution_count": 143,
   "metadata": {},
   "outputs": [],
   "source": [
    "df3 = pd.read_csv(\"data/regression_data.csv\")"
   ]
  },
  {
   "cell_type": "code",
   "execution_count": 144,
   "metadata": {},
   "outputs": [
    {
     "data": {
      "text/plain": [
       "Index(['fips', 'day_1', 'day_2', 'day_3', 'day_4', 'day_5', 'day_6', 'day_7',\n",
       "       'day_8', 'day_9',\n",
       "       ...\n",
       "       'educational services', 'health care and social assistance',\n",
       "       'arts, entertainment, and recreation',\n",
       "       'accommodation and food services',\n",
       "       'government and government enterprises', 'federal civilian', 'military',\n",
       "       'state and local', 'state government', 'local government'],\n",
       "      dtype='object', length=125)"
      ]
     },
     "execution_count": 144,
     "metadata": {},
     "output_type": "execute_result"
    }
   ],
   "source": [
    "df3.columns"
   ]
  },
  {
   "cell_type": "code",
   "execution_count": 145,
   "metadata": {},
   "outputs": [],
   "source": [
    "dfavg = df3[df3.columns[1:50]]"
   ]
  },
  {
   "cell_type": "code",
   "execution_count": 146,
   "metadata": {},
   "outputs": [],
   "source": [
    "dfavgmeans = dfavg.mean(axis=1)"
   ]
  },
  {
   "cell_type": "code",
   "execution_count": 147,
   "metadata": {},
   "outputs": [
    {
     "data": {
      "text/plain": [
       "0    0.058987\n",
       "1    0.066648\n",
       "2    0.060658\n",
       "3    0.043846\n",
       "4    0.042858\n",
       "dtype: float64"
      ]
     },
     "execution_count": 147,
     "metadata": {},
     "output_type": "execute_result"
    }
   ],
   "source": [
    "dfavgmeans.head()"
   ]
  },
  {
   "cell_type": "code",
   "execution_count": 148,
   "metadata": {},
   "outputs": [
    {
     "data": {
      "text/plain": [
       "Text(0.5, 1.0, 'Transportation Industry Share Against Average Growth Rate')"
      ]
     },
     "execution_count": 148,
     "metadata": {},
     "output_type": "execute_result"
    },
    {
     "data": {
      "image/png": "[encoded data removed]",
      "text/plain": [
       "<Figure size 432x288 with 1 Axes>"
      ]
     },
     "metadata": {
      "needs_background": "light"
     },
     "output_type": "display_data"
    }
   ],
   "source": [
    "plt.plot(df3[\"transportation and warehousing\"],dfavgmeans,'bo')\n",
    "plt.title(\"Transportation Industry Share Against Average Growth Rate\")"
   ]
  },
  {
   "cell_type": "code",
   "execution_count": null,
   "metadata": {},
   "outputs": [],
   "source": []
  }
 ],
 "metadata": {
  "kernelspec": {
   "display_name": "Python 3",
   "language": "python",
   "name": "python3"
  },
  "language_info": {
   "codemirror_mode": {
    "name": "ipython",
    "version": 3
   },
   "file_extension": ".py",
   "mimetype": "text/x-python",
   "name": "python",
   "nbconvert_exporter": "python",
   "pygments_lexer": "ipython3",
   "version": "3.7.1"
  }
 },
 "nbformat": 4,
 "nbformat_minor": 2
}
