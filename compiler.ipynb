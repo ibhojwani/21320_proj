{
 "cells": [
  {
   "cell_type": "code",
   "execution_count": 1,
   "metadata": {},
   "outputs": [],
   "source": [
    "import pandas as pd\n",
    "import numpy as np\n",
    "from sklearn.cluster import KMeans\n",
    "import matplotlib.pyplot as plt\n",
    "\n",
    "from tqdm.notebook import tqdm\n",
    "\n",
    "import os"
   ]
  },
  {
   "cell_type": "code",
   "execution_count": 75,
   "metadata": {
    "scrolled": true
   },
   "outputs": [],
   "source": [
    "dataDir = \"data/\"\n",
    "growth_rate = pd.read_csv(dataDir + \"covid_clean.csv\", encoding=\"latin_1\")"
   ]
  },
  {
   "cell_type": "code",
   "execution_count": 76,
   "metadata": {},
   "outputs": [],
   "source": [
    "job_shares = pd.read_csv(dataDir + \"jobs_shares.csv\", encoding=\"latin_1\")\n",
    "num_fips = []\n",
    "for fip in job_shares['geofips']:\n",
    "    num_fips.append(int(fip.strip('\"')))\n",
    "job_shares['geofips'] = num_fips\n",
    "job_shares = job_shares.rename(columns={\"geofips\" : 'fips'})"
   ]
  },
  {
   "cell_type": "code",
   "execution_count": 72,
   "metadata": {
    "scrolled": true
   },
   "outputs": [
    {
     "name": "stdout",
     "output_type": "stream",
     "text": [
      "The file does not exist\n"
     ]
    }
   ],
   "source": [
    "lockdown = pd.read_csv(dataDir + \"lockdown_dates.csv\")\n",
    "us_lock = lockdown[lockdown['Country'] == 'United States']\n",
    "state2fips = pd.read_csv(dataDir + \"state_fips.csv\").rename(columns={\"stname\" : \"Place\"})\n",
    "state2fips[\"statefips\"] = state2fips[' st'] * 1000\n",
    "state2fips = state2fips.drop([' st', ' stusps'], axis = 1)\n",
    "\n",
    "def export2csv(filedir, filename, data):\n",
    "    if os.path.exists(filedir + filename):\n",
    "        os.remove(filedir + filename)\n",
    "        print(\"File deleted\")\n",
    "    else:\n",
    "        print(\"The file does not exist\")\n",
    "    data.to_csv(filedir + filename, index=False, encoding='latin_1')\n",
    "\n",
    "export2csv(dataDir, \"state_fips_clean.csv\", state2fips)"
   ]
  },
  {
   "cell_type": "code",
   "execution_count": 73,
   "metadata": {},
   "outputs": [
    {
     "name": "stdout",
     "output_type": "stream",
     "text": [
      "The file does not exist\n"
     ]
    }
   ],
   "source": [
    "population = pd.read_csv(dataDir + \"dollars_clean.csv\", encoding = \"latin_1\")\n",
    "population = population[['GeoFIPS', '20']]\n",
    "population['20'] = population['20'].astype(int)\n",
    "num_fips = []\n",
    "for fip in population['GeoFIPS']:\n",
    "    num_fips.append(int(fip.strip().strip('\"')))\n",
    "population['GeoFIPS'] = num_fips\n",
    "population = population.rename(columns={\"GeoFIPS\" : 'fips', \"20\" : 'population'})\n",
    "\n",
    "export2csv(dataDir, \"population.csv\", population)"
   ]
  },
  {
   "cell_type": "code",
   "execution_count": 77,
   "metadata": {
    "scrolled": true
   },
   "outputs": [
    {
     "name": "stdout",
     "output_type": "stream",
     "text": [
      "The file does not exist\n"
     ]
    }
   ],
   "source": [
    "fips_lockdown = pd.merge(us_lock, state2fips, on=\"Place\")[['statefips', 'Start date']]\n",
    "fips_lockdown = fips_lockdown.rename(columns={\"Start date\" : \"lockdown start\"})\n",
    "fips_lockdown = fips_lockdown.sort_values('statefips')\n",
    "\n",
    "export2csv(dataDir, \"us_lockdown_dates.csv\", fips_lockdown)"
   ]
  },
  {
   "cell_type": "code",
   "execution_count": 78,
   "metadata": {
    "scrolled": true
   },
   "outputs": [],
   "source": [
    "temp = pd.merge(growth_rate, fips_lockdown, on='statefips', how = 'outer')\n",
    "temp = pd.merge(temp, population, on='fips')"
   ]
  },
  {
   "cell_type": "code",
   "execution_count": 86,
   "metadata": {},
   "outputs": [
    {
     "name": "stdout",
     "output_type": "stream",
     "text": [
      "File deleted\n"
     ]
    }
   ],
   "source": [
    "export = pd.merge(temp, job_shares, on='fips')\n",
    "drop_cols = ['statefips']\n",
    "for idx, col in enumerate(job_shares.columns):\n",
    "    if idx < 9 and idx > 0:\n",
    "        drop_cols.append(col)\n",
    "export = export.drop(columns = drop_cols)\n",
    "\n",
    "export2csv(dataDir, \"regression_data.csv\", export)"
   ]
  },
  {
   "cell_type": "code",
   "execution_count": 85,
   "metadata": {},
   "outputs": [
    {
     "data": {
      "text/plain": [
       "[(0, 'fips'),\n",
       " (1, 'day_1'),\n",
       " (2, 'day_2'),\n",
       " (3, 'day_3'),\n",
       " (4, 'day_4'),\n",
       " (5, 'day_5'),\n",
       " (6, 'day_6'),\n",
       " (7, 'day_7'),\n",
       " (8, 'day_8'),\n",
       " (9, 'day_9'),\n",
       " (10, 'day_10'),\n",
       " (11, 'day_11'),\n",
       " (12, 'day_12'),\n",
       " (13, 'day_13'),\n",
       " (14, 'day_14'),\n",
       " (15, 'day_15'),\n",
       " (16, 'day_16'),\n",
       " (17, 'day_17'),\n",
       " (18, 'day_18'),\n",
       " (19, 'day_19'),\n",
       " (20, 'day_20'),\n",
       " (21, 'day_21'),\n",
       " (22, 'day_22'),\n",
       " (23, 'day_23'),\n",
       " (24, 'day_24'),\n",
       " (25, 'day_25'),\n",
       " (26, 'day_26'),\n",
       " (27, 'day_27'),\n",
       " (28, 'day_28'),\n",
       " (29, 'day_29'),\n",
       " (30, 'day_30'),\n",
       " (31, 'day_31'),\n",
       " (32, 'day_32'),\n",
       " (33, 'day_33'),\n",
       " (34, 'day_34'),\n",
       " (35, 'day_35'),\n",
       " (36, 'day_36'),\n",
       " (37, 'day_37'),\n",
       " (38, 'day_38'),\n",
       " (39, 'day_39'),\n",
       " (40, 'day_40'),\n",
       " (41, 'day_41'),\n",
       " (42, 'day_42'),\n",
       " (43, 'day_43'),\n",
       " (44, 'day_44'),\n",
       " (45, 'day_45'),\n",
       " (46, 'day_46'),\n",
       " (47, 'day_47'),\n",
       " (48, 'day_48'),\n",
       " (49, 'day_49'),\n",
       " (50, 'day_50'),\n",
       " (51, 'day_51'),\n",
       " (52, 'day_52'),\n",
       " (53, 'day_53'),\n",
       " (54, 'day_54'),\n",
       " (55, 'day_55'),\n",
       " (56, 'day_56'),\n",
       " (57, 'day_57'),\n",
       " (58, 'day_58'),\n",
       " (59, 'day_59'),\n",
       " (60, 'day_60'),\n",
       " (61, 'day_61'),\n",
       " (62, 'day_62'),\n",
       " (63, 'day_63'),\n",
       " (64, 'day_64'),\n",
       " (65, 'day_65'),\n",
       " (66, 'day_66'),\n",
       " (67, 'day_67'),\n",
       " (68, 'day_68'),\n",
       " (69, 'day_69'),\n",
       " (70, 'day_70'),\n",
       " (71, 'day_71'),\n",
       " (72, 'day_72'),\n",
       " (73, 'day_73'),\n",
       " (74, 'day_74'),\n",
       " (75, 'day_75'),\n",
       " (76, 'day_76'),\n",
       " (77, 'day_77'),\n",
       " (78, 'day_78'),\n",
       " (79, 'day_79'),\n",
       " (80, 'day_80'),\n",
       " (81, 'day_81'),\n",
       " (82, 'day_82'),\n",
       " (83, 'day_83'),\n",
       " (84, 'day_84'),\n",
       " (85, 'lockdown start'),\n",
       " (86, 'population'),\n",
       " (87, 'forestry, fishing, and related activities'),\n",
       " (88, 'mining, quarrying, and oil and gas extraction'),\n",
       " (89, 'utilities'),\n",
       " (90, 'construction'),\n",
       " (91, 'manufacturing'),\n",
       " (92, 'wholesale trade'),\n",
       " (93, 'retail trade'),\n",
       " (94, 'transportation and warehousing'),\n",
       " (95, 'information'),\n",
       " (96, 'finance and insurance'),\n",
       " (97, 'real estate and rental and leasing'),\n",
       " (98, 'professional, scientific, and technical services'),\n",
       " (99, 'management of companies and enterprises'),\n",
       " (100,\n",
       "  'administrative and support and waste management and remediation services'),\n",
       " (101, 'educational services'),\n",
       " (102, 'health care and social assistance'),\n",
       " (103, 'arts, entertainment, and recreation'),\n",
       " (104, 'accommodation and food services'),\n",
       " (105, 'other services (except government and government enterprises)'),\n",
       " (106, 'government and government enterprises'),\n",
       " (107, 'federal civilian'),\n",
       " (108, 'military'),\n",
       " (109, 'state and local'),\n",
       " (110, 'state government'),\n",
       " (111, 'local government')]"
      ]
     },
     "execution_count": 85,
     "metadata": {},
     "output_type": "execute_result"
    }
   ],
   "source": [
    "list(enumerate(export.columns))"
   ]
  },
  {
   "cell_type": "code",
   "execution_count": null,
   "metadata": {},
   "outputs": [],
   "source": []
  }
 ],
 "metadata": {
  "kernelspec": {
   "display_name": "Python 3",
   "language": "python",
   "name": "python3"
  },
  "language_info": {
   "codemirror_mode": {
    "name": "ipython",
    "version": 3
   },
   "file_extension": ".py",
   "mimetype": "text/x-python",
   "name": "python",
   "nbconvert_exporter": "python",
   "pygments_lexer": "ipython3",
   "version": "3.7.7"
  }
 },
 "nbformat": 4,
 "nbformat_minor": 4
}
